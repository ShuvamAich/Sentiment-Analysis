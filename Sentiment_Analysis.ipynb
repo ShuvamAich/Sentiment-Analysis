{
  "nbformat": 4,
  "nbformat_minor": 0,
  "metadata": {
    "colab": {
      "name": "Sentiment Analysis",
      "provenance": []
    },
    "kernelspec": {
      "name": "python3",
      "display_name": "Python 3"
    }
  },
  "cells": [
    {
      "cell_type": "code",
      "metadata": {
        "id": "u8hN-XSLFEIG",
        "outputId": "3958b7cc-e0ba-481e-ec8a-d5810c1ce07f",
        "colab": {
          "base_uri": "https://localhost:8080/",
          "height": 373
        }
      },
      "source": [
        "!wget \"https://www.dropbox.com/s/c6lmwqz67kpdsiq/review_dataset.csv\""
      ],
      "execution_count": null,
      "outputs": [
        {
          "output_type": "stream",
          "text": [
            "--2020-10-21 17:39:40--  https://www.dropbox.com/s/c6lmwqz67kpdsiq/review_dataset.csv\n",
            "Resolving www.dropbox.com (www.dropbox.com)... 162.125.9.1, 2620:100:601f:1::a27d:901\n",
            "Connecting to www.dropbox.com (www.dropbox.com)|162.125.9.1|:443... connected.\n",
            "HTTP request sent, awaiting response... 301 Moved Permanently\n",
            "Location: /s/raw/c6lmwqz67kpdsiq/review_dataset.csv [following]\n",
            "--2020-10-21 17:39:40--  https://www.dropbox.com/s/raw/c6lmwqz67kpdsiq/review_dataset.csv\n",
            "Reusing existing connection to www.dropbox.com:443.\n",
            "HTTP request sent, awaiting response... 302 Found\n",
            "Location: https://uc69cb4d85a7e1421d83694c11b0.dl.dropboxusercontent.com/cd/0/inline/BBtpkheb-0yg4jVnIy-e7V0HTTrDyCBOWLS5UYiYu6yfSqYE7QCy3XHqwUkPdK3ckbKZKNqh4XE-pty5SoHL8xS0AZRA9yzI7eKUPODGFYva4G3UDGWV_hSRQphFZyM007o/file# [following]\n",
            "--2020-10-21 17:39:40--  https://uc69cb4d85a7e1421d83694c11b0.dl.dropboxusercontent.com/cd/0/inline/BBtpkheb-0yg4jVnIy-e7V0HTTrDyCBOWLS5UYiYu6yfSqYE7QCy3XHqwUkPdK3ckbKZKNqh4XE-pty5SoHL8xS0AZRA9yzI7eKUPODGFYva4G3UDGWV_hSRQphFZyM007o/file\n",
            "Resolving uc69cb4d85a7e1421d83694c11b0.dl.dropboxusercontent.com (uc69cb4d85a7e1421d83694c11b0.dl.dropboxusercontent.com)... 162.125.9.15, 2620:100:601d:15::a27d:50f\n",
            "Connecting to uc69cb4d85a7e1421d83694c11b0.dl.dropboxusercontent.com (uc69cb4d85a7e1421d83694c11b0.dl.dropboxusercontent.com)|162.125.9.15|:443... connected.\n",
            "HTTP request sent, awaiting response... 200 OK\n",
            "Length: 26332150 (25M) [text/plain]\n",
            "Saving to: ‘review_dataset.csv’\n",
            "\n",
            "review_dataset.csv  100%[===================>]  25.11M  64.8MB/s    in 0.4s    \n",
            "\n",
            "2020-10-21 17:39:41 (64.8 MB/s) - ‘review_dataset.csv’ saved [26332150/26332150]\n",
            "\n"
          ],
          "name": "stdout"
        }
      ]
    },
    {
      "cell_type": "code",
      "metadata": {
        "id": "W6RBh9z-HI0f"
      },
      "source": [
        "import pandas as pd\n",
        "import numpy as np"
      ],
      "execution_count": null,
      "outputs": []
    },
    {
      "cell_type": "code",
      "metadata": {
        "id": "OEZKRChyHj5h"
      },
      "source": [
        "df = pd.read_csv(\"review_dataset.csv\")"
      ],
      "execution_count": null,
      "outputs": []
    },
    {
      "cell_type": "code",
      "metadata": {
        "id": "FsT9Og-nIFYL",
        "outputId": "e72aadc1-6700-4a44-c52c-b3085c26c7e0",
        "colab": {
          "base_uri": "https://localhost:8080/",
          "height": 34
        }
      },
      "source": [
        "df.shape"
      ],
      "execution_count": null,
      "outputs": [
        {
          "output_type": "execute_result",
          "data": {
            "text/plain": [
              "(20000, 2)"
            ]
          },
          "metadata": {
            "tags": []
          },
          "execution_count": 4
        }
      ]
    },
    {
      "cell_type": "code",
      "metadata": {
        "id": "ctPImVGmI-93",
        "outputId": "4e282e87-e690-4355-bfd4-298166414e64",
        "colab": {
          "base_uri": "https://localhost:8080/",
          "height": 218
        }
      },
      "source": [
        "df['label']"
      ],
      "execution_count": null,
      "outputs": [
        {
          "output_type": "execute_result",
          "data": {
            "text/plain": [
              "0        pos\n",
              "1        neg\n",
              "2        neg\n",
              "3        pos\n",
              "4        neg\n",
              "        ... \n",
              "19995    neg\n",
              "19996    pos\n",
              "19997    neg\n",
              "19998    neg\n",
              "19999    pos\n",
              "Name: label, Length: 20000, dtype: object"
            ]
          },
          "metadata": {
            "tags": []
          },
          "execution_count": 5
        }
      ]
    },
    {
      "cell_type": "code",
      "metadata": {
        "id": "yDFsXT3TJH20",
        "outputId": "fcd1d9d8-5bb9-4dbc-b572-9324d907c326",
        "colab": {
          "base_uri": "https://localhost:8080/",
          "height": 218
        }
      },
      "source": [
        "df['review']"
      ],
      "execution_count": null,
      "outputs": [
        {
          "output_type": "execute_result",
          "data": {
            "text/plain": [
              "0        The Buddy Holly Story opens on a shot of a yel...\n",
              "1        ***SPOILERS*** Like some evil Tinkers-to-Evers...\n",
              "2        Ghost of Dragstrip Hollow is a typical 1950's ...\n",
              "3        Whatever you do, don't stop watching when you ...\n",
              "4        This is one of those movies you think that the...\n",
              "                               ...                        \n",
              "19995    O boy, was this really bad.<br /><br />I saw t...\n",
              "19996    Larry Fessenden has been thrashed by most of t...\n",
              "19997    This may or may not be the worst movie that St...\n",
              "19998    I have no idea what these people were thinking...\n",
              "19999    \"The Groove Tube\" was initially shown on video...\n",
              "Name: review, Length: 20000, dtype: object"
            ]
          },
          "metadata": {
            "tags": []
          },
          "execution_count": 6
        }
      ]
    },
    {
      "cell_type": "code",
      "metadata": {
        "id": "6msgbQAjJSmf",
        "outputId": "f19fce99-9325-46ea-fdb1-7763462ec360",
        "colab": {
          "base_uri": "https://localhost:8080/",
          "height": 120
        }
      },
      "source": [
        "df['review'][1]"
      ],
      "execution_count": null,
      "outputs": [
        {
          "output_type": "execute_result",
          "data": {
            "application/vnd.google.colaboratory.intrinsic+json": {
              "type": "string"
            },
            "text/plain": [
              "'***SPOILERS*** Like some evil Tinkers-to-Evers-to-Chance double-play combination we have in \"Omen IV\" the evil seed of the deceased AntiChrist Damien Thorn come back. Terrorizing his parents his schoolmates his neighbors and finally the entire world as a she named Delia York, Asia Vieila. After being given to a \"deserving\" couple the Yorks Karen & Gene, Fay Grant & Michael Woods,by the Catholic Church\\'s St. Francis orphanage.<br /><br />Little Delia didn\\'t waste any time making her peasants felt by scratching her mom at a house party. Later Delia almost get killed by a runaway truck only to have herself saved by this \"Devil Dog\" named Ryder. Going to school Delia takes care of the local bully by getting the big guy to wet himself in front of all his classmates. Later when his father threatens the Yorks with a law suit she has his head sliced off in a self-induced traffic accident! Delia is someone that you never mess with if you know what\\'s good for you.<br /><br />Meanwhile Dalia\\'s dad Gene becomes a big man in town on his own, or so he thinks, by getting elected to the congress as a champion of the clean air and green trees crowd instead of letting the smog and concrete boys take over the neighborhood with his eye now on he White House itself! Did his bratty and strange daughter Delia have anything to do with Gene York\\'s sudden good fortune?<br /><br />It\\'s only later when Jo, Ann Hearen, is hired as Delia\\'s nanny that the truth\\'s comes out about her strange and evil powers. Jo a New Age type realizes that Delia is a bit weird, after turning all her white crystals black, and calls her New Age Guru Noah, Jim Byrnes, to come over and check her out. Noah is so upset by what he sees in Delia Kirilian color vibrations ,all black and blue with a little pinch of red, that it flips him out so bad that he almost crashed into Delia\\'s moms car.<br /><br />Taken on a trip to a psychic festival by Jo Delia turns the entire event into an inferno setting the place, through mental telepathy, on fire and heaving everyone there run for cover including poor Noah who was at the festival and ended up with his leg broken. The and shaken and battered Guru was so shook up by the whole experience that he later checked out of the country to become a hermit in the Tibetan wilderness. <br /><br />Jo herself is later thrown out, with the help of the sweet and cuddly family pet Ryder, of a second floor window to her death because she knew and talked too much. It\\'s when Karen is again pregnant that she decides, finally, to find out the truth about the real parents of Delia. That\\'s when she,and we in the audience, come face to face with the truth. She\\'s not only the feared AntiChrist of Revelations she\\'s his twin sister! Her brother the AntiChrist himself is about to come on the scene as her kid brother the sill unborn Alexander York!<br /><br />Three times were more then enough for the AntiChrist coming back to earth to bring about Armageddon. The movie going public were already getting a little tired of of him and his evil adventures. With a fourth really not necessary since Daimen Thorn, the original AntiChrist, had been dead and buried for years. Were put through the usual ringer with no one believing that little Delia is \"Thee\" AntiChrist until it was almost too late to stop her in her deadly rounds of destroying the entire human race. The movie as bad as it is is also far too long, 97 minutes, for a horror flick that could well have told it\\'s story is as little as 80 minutes.<br /><br />Having a private eye Earl Knight, Mchael Learner,and later a former Catholic nun sister Yvonne,Megan Lehch,and now faith healer Felichy in the film only to be killed off didn\\'t help the plot either. It only prolonged the suffering of those of us watching the movie. You could see the surprise ending coming almost as soon as the film \"Omen IV\" began with the bases being cleared for Delia\\'s eventual takeover of the civilized as well as uncivilized world. What was a bit of a surprise was Delia doing it with a little help from friends.'"
            ]
          },
          "metadata": {
            "tags": []
          },
          "execution_count": 7
        }
      ]
    },
    {
      "cell_type": "code",
      "metadata": {
        "id": "phMpYZY9JcBV",
        "outputId": "883f8de6-0b47-4d39-9a77-24053a34333a",
        "colab": {
          "base_uri": "https://localhost:8080/",
          "height": 1000
        }
      },
      "source": [
        "import re\n",
        "import nltk\n",
        "from nltk.corpus import stopwords\n",
        "\n",
        "nltk.download('stopwords')\n",
        "sw= stopwords.words('english')\n",
        "sw"
      ],
      "execution_count": null,
      "outputs": [
        {
          "output_type": "stream",
          "text": [
            "[nltk_data] Downloading package stopwords to /root/nltk_data...\n",
            "[nltk_data]   Unzipping corpora/stopwords.zip.\n"
          ],
          "name": "stdout"
        },
        {
          "output_type": "execute_result",
          "data": {
            "text/plain": [
              "['i',\n",
              " 'me',\n",
              " 'my',\n",
              " 'myself',\n",
              " 'we',\n",
              " 'our',\n",
              " 'ours',\n",
              " 'ourselves',\n",
              " 'you',\n",
              " \"you're\",\n",
              " \"you've\",\n",
              " \"you'll\",\n",
              " \"you'd\",\n",
              " 'your',\n",
              " 'yours',\n",
              " 'yourself',\n",
              " 'yourselves',\n",
              " 'he',\n",
              " 'him',\n",
              " 'his',\n",
              " 'himself',\n",
              " 'she',\n",
              " \"she's\",\n",
              " 'her',\n",
              " 'hers',\n",
              " 'herself',\n",
              " 'it',\n",
              " \"it's\",\n",
              " 'its',\n",
              " 'itself',\n",
              " 'they',\n",
              " 'them',\n",
              " 'their',\n",
              " 'theirs',\n",
              " 'themselves',\n",
              " 'what',\n",
              " 'which',\n",
              " 'who',\n",
              " 'whom',\n",
              " 'this',\n",
              " 'that',\n",
              " \"that'll\",\n",
              " 'these',\n",
              " 'those',\n",
              " 'am',\n",
              " 'is',\n",
              " 'are',\n",
              " 'was',\n",
              " 'were',\n",
              " 'be',\n",
              " 'been',\n",
              " 'being',\n",
              " 'have',\n",
              " 'has',\n",
              " 'had',\n",
              " 'having',\n",
              " 'do',\n",
              " 'does',\n",
              " 'did',\n",
              " 'doing',\n",
              " 'a',\n",
              " 'an',\n",
              " 'the',\n",
              " 'and',\n",
              " 'but',\n",
              " 'if',\n",
              " 'or',\n",
              " 'because',\n",
              " 'as',\n",
              " 'until',\n",
              " 'while',\n",
              " 'of',\n",
              " 'at',\n",
              " 'by',\n",
              " 'for',\n",
              " 'with',\n",
              " 'about',\n",
              " 'against',\n",
              " 'between',\n",
              " 'into',\n",
              " 'through',\n",
              " 'during',\n",
              " 'before',\n",
              " 'after',\n",
              " 'above',\n",
              " 'below',\n",
              " 'to',\n",
              " 'from',\n",
              " 'up',\n",
              " 'down',\n",
              " 'in',\n",
              " 'out',\n",
              " 'on',\n",
              " 'off',\n",
              " 'over',\n",
              " 'under',\n",
              " 'again',\n",
              " 'further',\n",
              " 'then',\n",
              " 'once',\n",
              " 'here',\n",
              " 'there',\n",
              " 'when',\n",
              " 'where',\n",
              " 'why',\n",
              " 'how',\n",
              " 'all',\n",
              " 'any',\n",
              " 'both',\n",
              " 'each',\n",
              " 'few',\n",
              " 'more',\n",
              " 'most',\n",
              " 'other',\n",
              " 'some',\n",
              " 'such',\n",
              " 'no',\n",
              " 'nor',\n",
              " 'not',\n",
              " 'only',\n",
              " 'own',\n",
              " 'same',\n",
              " 'so',\n",
              " 'than',\n",
              " 'too',\n",
              " 'very',\n",
              " 's',\n",
              " 't',\n",
              " 'can',\n",
              " 'will',\n",
              " 'just',\n",
              " 'don',\n",
              " \"don't\",\n",
              " 'should',\n",
              " \"should've\",\n",
              " 'now',\n",
              " 'd',\n",
              " 'll',\n",
              " 'm',\n",
              " 'o',\n",
              " 're',\n",
              " 've',\n",
              " 'y',\n",
              " 'ain',\n",
              " 'aren',\n",
              " \"aren't\",\n",
              " 'couldn',\n",
              " \"couldn't\",\n",
              " 'didn',\n",
              " \"didn't\",\n",
              " 'doesn',\n",
              " \"doesn't\",\n",
              " 'hadn',\n",
              " \"hadn't\",\n",
              " 'hasn',\n",
              " \"hasn't\",\n",
              " 'haven',\n",
              " \"haven't\",\n",
              " 'isn',\n",
              " \"isn't\",\n",
              " 'ma',\n",
              " 'mightn',\n",
              " \"mightn't\",\n",
              " 'mustn',\n",
              " \"mustn't\",\n",
              " 'needn',\n",
              " \"needn't\",\n",
              " 'shan',\n",
              " \"shan't\",\n",
              " 'shouldn',\n",
              " \"shouldn't\",\n",
              " 'wasn',\n",
              " \"wasn't\",\n",
              " 'weren',\n",
              " \"weren't\",\n",
              " 'won',\n",
              " \"won't\",\n",
              " 'wouldn',\n",
              " \"wouldn't\"]"
            ]
          },
          "metadata": {
            "tags": []
          },
          "execution_count": 8
        }
      ]
    },
    {
      "cell_type": "code",
      "metadata": {
        "id": "RcInYBpaLmxl"
      },
      "source": [
        "def clean_text(sample):\n",
        "  sample = sample.lower()\n",
        "  sample= sample.replace(\"<br /><br />\",\"\")\n",
        "  sample=re.sub(\"[^a-z]+\",\" \",sample)\n",
        "  sample=sample.split()\n",
        "  sample=[word for word in sample if word not in sw]\n",
        "  sample=\" \".join(sample)\n",
        "  return sample"
      ],
      "execution_count": null,
      "outputs": []
    },
    {
      "cell_type": "code",
      "metadata": {
        "id": "czeY6_lWM3Uo",
        "outputId": "f5ba23a9-cee6-440a-dd5f-8a846f7824bc",
        "colab": {
          "base_uri": "https://localhost:8080/",
          "height": 120
        }
      },
      "source": [
        "clean_text(df['review'][1])"
      ],
      "execution_count": null,
      "outputs": [
        {
          "output_type": "execute_result",
          "data": {
            "application/vnd.google.colaboratory.intrinsic+json": {
              "type": "string"
            },
            "text/plain": [
              "'spoilers like evil tinkers evers chance double play combination omen iv evil seed deceased antichrist damien thorn come back terrorizing parents schoolmates neighbors finally entire world named delia york asia vieila given deserving couple yorks karen gene fay grant michael woods catholic church st francis orphanage little delia waste time making peasants felt scratching mom house party later delia almost get killed runaway truck saved devil dog named ryder going school delia takes care local bully getting big guy wet front classmates later father threatens yorks law suit head sliced self induced traffic accident delia someone never mess know good meanwhile dalia dad gene becomes big man town thinks getting elected congress champion clean air green trees crowd instead letting smog concrete boys take neighborhood eye white house bratty strange daughter delia anything gene york sudden good fortune later jo ann hearen hired delia nanny truth comes strange evil powers jo new age type realizes delia bit weird turning white crystals black calls new age guru noah jim byrnes come check noah upset sees delia kirilian color vibrations black blue little pinch red flips bad almost crashed delia moms car taken trip psychic festival jo delia turns entire event inferno setting place mental telepathy fire heaving everyone run cover including poor noah festival ended leg broken shaken battered guru shook whole experience later checked country become hermit tibetan wilderness jo later thrown help sweet cuddly family pet ryder second floor window death knew talked much karen pregnant decides finally find truth real parents delia audience come face face truth feared antichrist revelations twin sister brother antichrist come scene kid brother sill unborn alexander york three times enough antichrist coming back earth bring armageddon movie going public already getting little tired evil adventures fourth really necessary since daimen thorn original antichrist dead buried years put usual ringer one believing little delia thee antichrist almost late stop deadly rounds destroying entire human race movie bad also far long minutes horror flick could well told story little minutes private eye earl knight mchael learner later former catholic nun sister yvonne megan lehch faith healer felichy film killed help plot either prolonged suffering us watching movie could see surprise ending coming almost soon film omen iv began bases cleared delia eventual takeover civilized well uncivilized world bit surprise delia little help friends'"
            ]
          },
          "metadata": {
            "tags": []
          },
          "execution_count": 10
        }
      ]
    },
    {
      "cell_type": "code",
      "metadata": {
        "id": "m29N1-VkM7cR"
      },
      "source": [
        "df['review']=df['review'].apply(clean_text)"
      ],
      "execution_count": null,
      "outputs": []
    },
    {
      "cell_type": "code",
      "metadata": {
        "id": "8MjluvihPOfx",
        "outputId": "35ca2541-6cd0-4111-b18e-dc570b768cc5",
        "colab": {
          "base_uri": "https://localhost:8080/",
          "height": 218
        }
      },
      "source": [
        "df['review']"
      ],
      "execution_count": null,
      "outputs": [
        {
          "output_type": "execute_result",
          "data": {
            "text/plain": [
              "0        buddy holly story opens shot yellow neon moon ...\n",
              "1        spoilers like evil tinkers evers chance double...\n",
              "2        ghost dragstrip hollow typical teens turmoil m...\n",
              "3        whatever stop watching think movie hang around...\n",
              "4        one movies think makers would refuse release t...\n",
              "                               ...                        \n",
              "19995    boy really bad saw videotape scenes soundtrack...\n",
              "19996    larry fessenden thrashed comments forum well w...\n",
              "19997    may may worst movie steve martin ever made cer...\n",
              "19998    idea people thinking made film plot limited ac...\n",
              "19999    groove tube initially shown video first video ...\n",
              "Name: review, Length: 20000, dtype: object"
            ]
          },
          "metadata": {
            "tags": []
          },
          "execution_count": 12
        }
      ]
    },
    {
      "cell_type": "code",
      "metadata": {
        "id": "5h5Bji5UPj2D"
      },
      "source": [
        "x=df['review'].values\n",
        "y=df['label'].values"
      ],
      "execution_count": null,
      "outputs": []
    },
    {
      "cell_type": "code",
      "metadata": {
        "id": "RP0uI1qcQJqo"
      },
      "source": [
        "x_train=x[0:15000]\n",
        "x_test=x[15000:20000]\n",
        "y_train=y[0:15000]\n",
        "y_test=y[15000:20000]"
      ],
      "execution_count": null,
      "outputs": []
    },
    {
      "cell_type": "code",
      "metadata": {
        "id": "as7F80rZQo14",
        "outputId": "50e3ce77-f4b7-48d5-818e-c5ef6210bbc6",
        "colab": {
          "base_uri": "https://localhost:8080/",
          "height": 34
        }
      },
      "source": [
        "y_train"
      ],
      "execution_count": null,
      "outputs": [
        {
          "output_type": "execute_result",
          "data": {
            "text/plain": [
              "array(['pos', 'neg', 'neg', ..., 'pos', 'pos', 'pos'], dtype=object)"
            ]
          },
          "metadata": {
            "tags": []
          },
          "execution_count": 15
        }
      ]
    },
    {
      "cell_type": "code",
      "metadata": {
        "id": "-ZPr4s3hQrO2",
        "outputId": "44d189f4-d03d-45b6-f795-ec18624ac134",
        "colab": {
          "base_uri": "https://localhost:8080/",
          "height": 34
        }
      },
      "source": [
        "from sklearn.preprocessing import LabelEncoder\n",
        "\n",
        "le=LabelEncoder()\n",
        "le.fit(y_train)"
      ],
      "execution_count": null,
      "outputs": [
        {
          "output_type": "execute_result",
          "data": {
            "text/plain": [
              "LabelEncoder()"
            ]
          },
          "metadata": {
            "tags": []
          },
          "execution_count": 16
        }
      ]
    },
    {
      "cell_type": "code",
      "metadata": {
        "id": "q8DSCXN0RF8N"
      },
      "source": [
        "y_train=le.transform(y_train)\n",
        "y_test=le.transform(y_test)"
      ],
      "execution_count": null,
      "outputs": []
    },
    {
      "cell_type": "code",
      "metadata": {
        "id": "TUYI6j0WRYp7",
        "outputId": "b405b74d-31bf-4b92-fa43-1fe62d7688f5",
        "colab": {
          "base_uri": "https://localhost:8080/",
          "height": 34
        }
      },
      "source": [
        "y_train[0:20]"
      ],
      "execution_count": null,
      "outputs": [
        {
          "output_type": "execute_result",
          "data": {
            "text/plain": [
              "array([1, 0, 0, 1, 0, 0, 1, 0, 0, 1, 0, 0, 0, 1, 0, 0, 1, 1, 1, 0])"
            ]
          },
          "metadata": {
            "tags": []
          },
          "execution_count": 18
        }
      ]
    },
    {
      "cell_type": "code",
      "metadata": {
        "id": "tUco0TG8Rb-x"
      },
      "source": [
        "from sklearn.feature_extraction.text import CountVectorizer\n",
        "\n",
        "cv=CountVectorizer(max_features=10000)"
      ],
      "execution_count": null,
      "outputs": []
    },
    {
      "cell_type": "code",
      "metadata": {
        "id": "WeOnlhNtSPlN",
        "outputId": "a4c7c2c7-44c8-4258-df28-0365a497c0d1",
        "colab": {
          "base_uri": "https://localhost:8080/",
          "height": 118
        }
      },
      "source": [
        "cv.fit(x_train)"
      ],
      "execution_count": null,
      "outputs": [
        {
          "output_type": "execute_result",
          "data": {
            "text/plain": [
              "CountVectorizer(analyzer='word', binary=False, decode_error='strict',\n",
              "                dtype=<class 'numpy.int64'>, encoding='utf-8', input='content',\n",
              "                lowercase=True, max_df=1.0, max_features=10000, min_df=1,\n",
              "                ngram_range=(1, 1), preprocessor=None, stop_words=None,\n",
              "                strip_accents=None, token_pattern='(?u)\\\\b\\\\w\\\\w+\\\\b',\n",
              "                tokenizer=None, vocabulary=None)"
            ]
          },
          "metadata": {
            "tags": []
          },
          "execution_count": 20
        }
      ]
    },
    {
      "cell_type": "code",
      "metadata": {
        "id": "CSV94A9nSSRe"
      },
      "source": [
        "x_train=cv.transform(x_train).toarray()"
      ],
      "execution_count": null,
      "outputs": []
    },
    {
      "cell_type": "code",
      "metadata": {
        "id": "0bvEcdb-TDIp",
        "outputId": "2fbd17c1-c71c-4ba1-eeb4-9a9eb7c56820",
        "colab": {
          "base_uri": "https://localhost:8080/",
          "height": 34
        }
      },
      "source": [
        "x_train.shape"
      ],
      "execution_count": null,
      "outputs": [
        {
          "output_type": "execute_result",
          "data": {
            "text/plain": [
              "(15000, 10000)"
            ]
          },
          "metadata": {
            "tags": []
          },
          "execution_count": 22
        }
      ]
    },
    {
      "cell_type": "code",
      "metadata": {
        "id": "PuNTsY7HTH4s"
      },
      "source": [
        "x_test=cv.transform(x_test).toarray()"
      ],
      "execution_count": null,
      "outputs": []
    },
    {
      "cell_type": "code",
      "metadata": {
        "id": "DoY8Ls6DTPaD"
      },
      "source": [
        "from sklearn.naive_bayes import MultinomialNB\n",
        "mnb=MultinomialNB()"
      ],
      "execution_count": null,
      "outputs": []
    },
    {
      "cell_type": "code",
      "metadata": {
        "id": "GpbbBuT7TvHM",
        "outputId": "72cb8b77-d2cb-4e25-a484-a33d5bc3eb74",
        "colab": {
          "base_uri": "https://localhost:8080/",
          "height": 34
        }
      },
      "source": [
        "mnb.fit(x_train,y_train)"
      ],
      "execution_count": null,
      "outputs": [
        {
          "output_type": "execute_result",
          "data": {
            "text/plain": [
              "MultinomialNB(alpha=1.0, class_prior=None, fit_prior=True)"
            ]
          },
          "metadata": {
            "tags": []
          },
          "execution_count": 25
        }
      ]
    },
    {
      "cell_type": "code",
      "metadata": {
        "id": "kOHLTR_1TzOp",
        "outputId": "59abe420-d9fa-44f7-c7fd-6520d3107e5b",
        "colab": {
          "base_uri": "https://localhost:8080/",
          "height": 34
        }
      },
      "source": [
        "mnb.predict(x_test)"
      ],
      "execution_count": null,
      "outputs": [
        {
          "output_type": "execute_result",
          "data": {
            "text/plain": [
              "array([0, 0, 1, ..., 0, 0, 0])"
            ]
          },
          "metadata": {
            "tags": []
          },
          "execution_count": 26
        }
      ]
    },
    {
      "cell_type": "code",
      "metadata": {
        "id": "IaUz6soGT7yC",
        "outputId": "0f788a11-96e3-4247-931d-6f1738bfc376",
        "colab": {
          "base_uri": "https://localhost:8080/",
          "height": 34
        }
      },
      "source": [
        "mnb.score(x_test,y_test)"
      ],
      "execution_count": null,
      "outputs": [
        {
          "output_type": "execute_result",
          "data": {
            "text/plain": [
              "0.8416"
            ]
          },
          "metadata": {
            "tags": []
          },
          "execution_count": 27
        }
      ]
    },
    {
      "cell_type": "code",
      "metadata": {
        "id": "P8gSYv1JUEP8"
      },
      "source": [
        "my_review=\"The characters that inhabit a Nancy Meyers (Something’s Gotta Give, The Holiday, What Women Want etc) film are usually fairly well-off and seemingly, don’t have much to worry about except for maybe, their love lives. For Meyers, it’s the kind of tried-and-tested confection that plays it safe and sweet.Therefore, if not for De Niro’s presence here, this movie would have been just another by-the-numbers flick about millennials and their various issues. Sure, Anne Hathaway does essay her somewhat conflicted character as the fast-paced (she rides a cycle in the office and personally takes random customer calls) startup owner who juggles a family life too, quite well but it is not something that any other actress in her league could not have done equally well, if not better.\""
      ],
      "execution_count": null,
      "outputs": []
    },
    {
      "cell_type": "code",
      "metadata": {
        "id": "KyVAAZzYUdcY"
      },
      "source": [
        "my_review=clean_text(my_review)"
      ],
      "execution_count": null,
      "outputs": []
    },
    {
      "cell_type": "code",
      "metadata": {
        "id": "SZ9KLZv3UiN5"
      },
      "source": [
        "my_review=cv.transform([my_review])"
      ],
      "execution_count": null,
      "outputs": []
    },
    {
      "cell_type": "code",
      "metadata": {
        "id": "jmwL5mk6UslB",
        "outputId": "d27ab3eb-43bc-4e33-db28-d37b90c4ba29",
        "colab": {
          "base_uri": "https://localhost:8080/",
          "height": 34
        }
      },
      "source": [
        "mnb.predict(my_review)"
      ],
      "execution_count": null,
      "outputs": [
        {
          "output_type": "execute_result",
          "data": {
            "text/plain": [
              "array([1])"
            ]
          },
          "metadata": {
            "tags": []
          },
          "execution_count": 31
        }
      ]
    },
    {
      "cell_type": "code",
      "metadata": {
        "id": "fxkWILQDU4F0"
      },
      "source": [
        ""
      ],
      "execution_count": null,
      "outputs": []
    }
  ]
}